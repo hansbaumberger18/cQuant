{
 "cells": [
  {
   "cell_type": "code",
   "execution_count": 138,
   "id": "eaa4fa6d-3b92-4682-9819-e44e2ee19e04",
   "metadata": {},
   "outputs": [],
   "source": [
    "import pandas as pd\n",
    "import numpy as np\n",
    "import matplotlib.pyplot as plt\n",
    "import seaborn as sns\n",
    "from datetime import datetime"
   ]
  },
  {
   "cell_type": "markdown",
   "id": "3a810435-d593-45dc-a07d-42533d8fc012",
   "metadata": {},
   "source": [
    "## Task 1: Read in all the historical data and combine it into a single data structure (data frame,table, etc.)."
   ]
  },
  {
   "cell_type": "code",
   "execution_count": 87,
   "id": "454912a0-3580-41b2-a71a-ce74048a8746",
   "metadata": {},
   "outputs": [],
   "source": [
    "#Reading all historical data\n",
    "data_16 = pd.read_csv('../historicalPriceData/ERCOT_DA_Prices_2016.csv')\n",
    "data_17 = pd.read_csv('../historicalPriceData/ERCOT_DA_Prices_2017.csv')\n",
    "data_18 = pd.read_csv('../historicalPriceData/ERCOT_DA_Prices_2018.csv')\n",
    "data_19 = pd.read_csv('../historicalPriceData/ERCOT_DA_Prices_2019.csv')"
   ]
  },
  {
   "cell_type": "code",
   "execution_count": 88,
   "id": "3efd4cec-fa0e-4e04-a6c6-ae7cd52878bb",
   "metadata": {},
   "outputs": [
    {
     "data": {
      "text/plain": [
       "Date                object\n",
       "SettlementPoint     object\n",
       "Price              float64\n",
       "dtype: object"
      ]
     },
     "execution_count": 88,
     "metadata": {},
     "output_type": "execute_result"
    }
   ],
   "source": [
    "data_16.dtypes"
   ]
  },
  {
   "cell_type": "code",
   "execution_count": 211,
   "id": "f3ef3c74-4a1a-4c0c-96dd-3a493642c847",
   "metadata": {},
   "outputs": [
    {
     "data": {
      "text/html": [
       "<div>\n",
       "<style scoped>\n",
       "    .dataframe tbody tr th:only-of-type {\n",
       "        vertical-align: middle;\n",
       "    }\n",
       "\n",
       "    .dataframe tbody tr th {\n",
       "        vertical-align: top;\n",
       "    }\n",
       "\n",
       "    .dataframe thead th {\n",
       "        text-align: right;\n",
       "    }\n",
       "</style>\n",
       "<table border=\"1\" class=\"dataframe\">\n",
       "  <thead>\n",
       "    <tr style=\"text-align: right;\">\n",
       "      <th></th>\n",
       "      <th>Date</th>\n",
       "      <th>SettlementPoint</th>\n",
       "      <th>Price</th>\n",
       "    </tr>\n",
       "  </thead>\n",
       "  <tbody>\n",
       "    <tr>\n",
       "      <th>0</th>\n",
       "      <td>2016-01-01 00:00:00</td>\n",
       "      <td>HB_BUSAVG</td>\n",
       "      <td>18.42</td>\n",
       "    </tr>\n",
       "    <tr>\n",
       "      <th>1</th>\n",
       "      <td>2016-01-01 00:00:00</td>\n",
       "      <td>HB_HOUSTON</td>\n",
       "      <td>18.42</td>\n",
       "    </tr>\n",
       "    <tr>\n",
       "      <th>2</th>\n",
       "      <td>2016-01-01 00:00:00</td>\n",
       "      <td>HB_HUBAVG</td>\n",
       "      <td>18.42</td>\n",
       "    </tr>\n",
       "    <tr>\n",
       "      <th>3</th>\n",
       "      <td>2016-01-01 00:00:00</td>\n",
       "      <td>HB_NORTH</td>\n",
       "      <td>18.43</td>\n",
       "    </tr>\n",
       "    <tr>\n",
       "      <th>4</th>\n",
       "      <td>2016-01-01 00:00:00</td>\n",
       "      <td>HB_SOUTH</td>\n",
       "      <td>18.38</td>\n",
       "    </tr>\n",
       "  </tbody>\n",
       "</table>\n",
       "</div>"
      ],
      "text/plain": [
       "                  Date SettlementPoint  Price\n",
       "0  2016-01-01 00:00:00       HB_BUSAVG  18.42\n",
       "1  2016-01-01 00:00:00      HB_HOUSTON  18.42\n",
       "2  2016-01-01 00:00:00       HB_HUBAVG  18.42\n",
       "3  2016-01-01 00:00:00        HB_NORTH  18.43\n",
       "4  2016-01-01 00:00:00        HB_SOUTH  18.38"
      ]
     },
     "execution_count": 211,
     "metadata": {},
     "output_type": "execute_result"
    }
   ],
   "source": [
    "#Combining them into a signle dataframe\n",
    "df = pd.concat([data_16, data_17, data_18, data_19]) #This dataframe is just in case I need the original later on\n",
    "hp = pd.concat([data_16, data_17, data_18, data_19])\n",
    "\n",
    "hp.head()"
   ]
  },
  {
   "cell_type": "code",
   "execution_count": 143,
   "id": "47a8c559-1cc8-4aaf-89e2-68befa9be601",
   "metadata": {},
   "outputs": [
    {
     "data": {
      "text/plain": [
       "Date               0\n",
       "SettlementPoint    0\n",
       "Price              0\n",
       "dtype: int64"
      ]
     },
     "execution_count": 143,
     "metadata": {},
     "output_type": "execute_result"
    }
   ],
   "source": [
    "#Checking for null values\n",
    "hp.isnull().sum()"
   ]
  },
  {
   "cell_type": "code",
   "execution_count": 144,
   "id": "77af52e2-a3cc-4aa5-bd57-fa5eb968f6cc",
   "metadata": {},
   "outputs": [
    {
     "data": {
      "text/plain": [
       "(['2019-12-31 23:00:00', '2019-12-31 22:00:00', '2019-12-31 21:00:00'],\n",
       " ['LZ_WEST', 'LZ_SOUTH', 'LZ_RAYBN'],\n",
       " [5015.25, 5012.22, 5011.71])"
      ]
     },
     "execution_count": 144,
     "metadata": {},
     "output_type": "execute_result"
    }
   ],
   "source": [
    "#Checking for unique values that may be odd\n",
    "sorted(list(hp['Date'].unique()), reverse=True)[0:3], sorted(list(hp['SettlementPoint'].unique()), reverse=True)[0:3], sorted(list(hp['Price'].unique()), reverse=True)[0:3]"
   ]
  },
  {
   "cell_type": "code",
   "execution_count": 145,
   "id": "e3848712-0993-485f-8d6b-894cd6cc8ca1",
   "metadata": {},
   "outputs": [
    {
     "data": {
      "text/html": [
       "<div>\n",
       "<style scoped>\n",
       "    .dataframe tbody tr th:only-of-type {\n",
       "        vertical-align: middle;\n",
       "    }\n",
       "\n",
       "    .dataframe tbody tr th {\n",
       "        vertical-align: top;\n",
       "    }\n",
       "\n",
       "    .dataframe thead th {\n",
       "        text-align: right;\n",
       "    }\n",
       "</style>\n",
       "<table border=\"1\" class=\"dataframe\">\n",
       "  <thead>\n",
       "    <tr style=\"text-align: right;\">\n",
       "      <th></th>\n",
       "      <th>Date</th>\n",
       "      <th>SettlementPoint</th>\n",
       "      <th>Price</th>\n",
       "    </tr>\n",
       "  </thead>\n",
       "  <tbody>\n",
       "    <tr>\n",
       "      <th>0</th>\n",
       "      <td>2016-01-01</td>\n",
       "      <td>HB_BUSAVG</td>\n",
       "      <td>18.42</td>\n",
       "    </tr>\n",
       "    <tr>\n",
       "      <th>1</th>\n",
       "      <td>2016-01-01</td>\n",
       "      <td>HB_HOUSTON</td>\n",
       "      <td>18.42</td>\n",
       "    </tr>\n",
       "    <tr>\n",
       "      <th>2</th>\n",
       "      <td>2016-01-01</td>\n",
       "      <td>HB_HUBAVG</td>\n",
       "      <td>18.42</td>\n",
       "    </tr>\n",
       "    <tr>\n",
       "      <th>3</th>\n",
       "      <td>2016-01-01</td>\n",
       "      <td>HB_NORTH</td>\n",
       "      <td>18.43</td>\n",
       "    </tr>\n",
       "    <tr>\n",
       "      <th>4</th>\n",
       "      <td>2016-01-01</td>\n",
       "      <td>HB_SOUTH</td>\n",
       "      <td>18.38</td>\n",
       "    </tr>\n",
       "  </tbody>\n",
       "</table>\n",
       "</div>"
      ],
      "text/plain": [
       "        Date SettlementPoint  Price\n",
       "0 2016-01-01       HB_BUSAVG  18.42\n",
       "1 2016-01-01      HB_HOUSTON  18.42\n",
       "2 2016-01-01       HB_HUBAVG  18.42\n",
       "3 2016-01-01        HB_NORTH  18.43\n",
       "4 2016-01-01        HB_SOUTH  18.38"
      ]
     },
     "execution_count": 145,
     "metadata": {},
     "output_type": "execute_result"
    }
   ],
   "source": [
    "# Change Date column to be datetime dtype\n",
    "hp['Date'] = pd.to_datetime(hp['Date'])\n",
    "hp.head()"
   ]
  },
  {
   "cell_type": "code",
   "execution_count": 93,
   "id": "228e4819-d431-4196-8b90-eafb40d88831",
   "metadata": {},
   "outputs": [
    {
     "data": {
      "text/plain": [
       "Date               datetime64[ns]\n",
       "SettlementPoint            object\n",
       "Price                     float64\n",
       "dtype: object"
      ]
     },
     "execution_count": 93,
     "metadata": {},
     "output_type": "execute_result"
    }
   ],
   "source": [
    "hp.dtypes"
   ]
  },
  {
   "cell_type": "markdown",
   "id": "150167e4-c115-4995-a091-4d80f3afbc6a",
   "metadata": {},
   "source": [
    "## Task 2: Compute the average price for each settlement point and year-month in the historical dataset (48 year-months: January 2016 through December 2019).\n",
    "- Compute these monthly average prices for all settlement points (both hubs and\n",
    "    load zones) in the historical dataset. Hubs are denoted by the prefix \"HB_\" and\n",
    "    load zones by the prefix “LZ_” in the SettlementPoint name.\n",
    "- Do not filter out prices less than or equal to zero in the historical data when\n",
    "    computing averages. Negative prices are indeed possible in deregulated power\n",
    "    markets"
   ]
  },
  {
   "cell_type": "code",
   "execution_count": 94,
   "id": "dc9b0f94-ba93-4bb9-b193-18b5f21d6057",
   "metadata": {},
   "outputs": [
    {
     "data": {
      "text/html": [
       "<div>\n",
       "<style scoped>\n",
       "    .dataframe tbody tr th:only-of-type {\n",
       "        vertical-align: middle;\n",
       "    }\n",
       "\n",
       "    .dataframe tbody tr th {\n",
       "        vertical-align: top;\n",
       "    }\n",
       "\n",
       "    .dataframe thead th {\n",
       "        text-align: right;\n",
       "    }\n",
       "</style>\n",
       "<table border=\"1\" class=\"dataframe\">\n",
       "  <thead>\n",
       "    <tr style=\"text-align: right;\">\n",
       "      <th></th>\n",
       "      <th>Date</th>\n",
       "      <th>SettlementPoint</th>\n",
       "      <th>Price</th>\n",
       "      <th>Year</th>\n",
       "      <th>Month</th>\n",
       "    </tr>\n",
       "  </thead>\n",
       "  <tbody>\n",
       "    <tr>\n",
       "      <th>0</th>\n",
       "      <td>2016-01-01</td>\n",
       "      <td>HB_BUSAVG</td>\n",
       "      <td>18.42</td>\n",
       "      <td>2016</td>\n",
       "      <td>1</td>\n",
       "    </tr>\n",
       "    <tr>\n",
       "      <th>1</th>\n",
       "      <td>2016-01-01</td>\n",
       "      <td>HB_HOUSTON</td>\n",
       "      <td>18.42</td>\n",
       "      <td>2016</td>\n",
       "      <td>1</td>\n",
       "    </tr>\n",
       "    <tr>\n",
       "      <th>2</th>\n",
       "      <td>2016-01-01</td>\n",
       "      <td>HB_HUBAVG</td>\n",
       "      <td>18.42</td>\n",
       "      <td>2016</td>\n",
       "      <td>1</td>\n",
       "    </tr>\n",
       "    <tr>\n",
       "      <th>3</th>\n",
       "      <td>2016-01-01</td>\n",
       "      <td>HB_NORTH</td>\n",
       "      <td>18.43</td>\n",
       "      <td>2016</td>\n",
       "      <td>1</td>\n",
       "    </tr>\n",
       "    <tr>\n",
       "      <th>4</th>\n",
       "      <td>2016-01-01</td>\n",
       "      <td>HB_SOUTH</td>\n",
       "      <td>18.38</td>\n",
       "      <td>2016</td>\n",
       "      <td>1</td>\n",
       "    </tr>\n",
       "  </tbody>\n",
       "</table>\n",
       "</div>"
      ],
      "text/plain": [
       "        Date SettlementPoint  Price  Year  Month\n",
       "0 2016-01-01       HB_BUSAVG  18.42  2016      1\n",
       "1 2016-01-01      HB_HOUSTON  18.42  2016      1\n",
       "2 2016-01-01       HB_HUBAVG  18.42  2016      1\n",
       "3 2016-01-01        HB_NORTH  18.43  2016      1\n",
       "4 2016-01-01        HB_SOUTH  18.38  2016      1"
      ]
     },
     "execution_count": 94,
     "metadata": {},
     "output_type": "execute_result"
    }
   ],
   "source": [
    "hp['Year'] = hp['Date'].dt.year\n",
    "hp['Month'] = hp['Date'].dt.month\n",
    "hp.head()"
   ]
  },
  {
   "cell_type": "code",
   "execution_count": 95,
   "id": "c53c59bc-c921-4d7a-9361-e62be10582f1",
   "metadata": {},
   "outputs": [
    {
     "data": {
      "text/html": [
       "<div>\n",
       "<style scoped>\n",
       "    .dataframe tbody tr th:only-of-type {\n",
       "        vertical-align: middle;\n",
       "    }\n",
       "\n",
       "    .dataframe tbody tr th {\n",
       "        vertical-align: top;\n",
       "    }\n",
       "\n",
       "    .dataframe thead th {\n",
       "        text-align: right;\n",
       "    }\n",
       "</style>\n",
       "<table border=\"1\" class=\"dataframe\">\n",
       "  <thead>\n",
       "    <tr style=\"text-align: right;\">\n",
       "      <th></th>\n",
       "      <th></th>\n",
       "      <th></th>\n",
       "      <th>Price</th>\n",
       "    </tr>\n",
       "    <tr>\n",
       "      <th>Year</th>\n",
       "      <th>Month</th>\n",
       "      <th>SettlementPoint</th>\n",
       "      <th></th>\n",
       "    </tr>\n",
       "  </thead>\n",
       "  <tbody>\n",
       "    <tr>\n",
       "      <th rowspan=\"5\" valign=\"top\">2016</th>\n",
       "      <th rowspan=\"5\" valign=\"top\">1</th>\n",
       "      <th>HB_BUSAVG</th>\n",
       "      <td>19.209301</td>\n",
       "    </tr>\n",
       "    <tr>\n",
       "      <th>HB_HOUSTON</th>\n",
       "      <td>19.565726</td>\n",
       "    </tr>\n",
       "    <tr>\n",
       "      <th>HB_HUBAVG</th>\n",
       "      <td>19.258696</td>\n",
       "    </tr>\n",
       "    <tr>\n",
       "      <th>HB_NORTH</th>\n",
       "      <td>19.133306</td>\n",
       "    </tr>\n",
       "    <tr>\n",
       "      <th>HB_SOUTH</th>\n",
       "      <td>19.210054</td>\n",
       "    </tr>\n",
       "    <tr>\n",
       "      <th>...</th>\n",
       "      <th>...</th>\n",
       "      <th>...</th>\n",
       "      <td>...</td>\n",
       "    </tr>\n",
       "    <tr>\n",
       "      <th rowspan=\"5\" valign=\"top\">2019</th>\n",
       "      <th rowspan=\"5\" valign=\"top\">12</th>\n",
       "      <th>LZ_LCRA</th>\n",
       "      <td>19.456882</td>\n",
       "    </tr>\n",
       "    <tr>\n",
       "      <th>LZ_NORTH</th>\n",
       "      <td>19.006801</td>\n",
       "    </tr>\n",
       "    <tr>\n",
       "      <th>LZ_RAYBN</th>\n",
       "      <td>19.085067</td>\n",
       "    </tr>\n",
       "    <tr>\n",
       "      <th>LZ_SOUTH</th>\n",
       "      <td>19.786882</td>\n",
       "    </tr>\n",
       "    <tr>\n",
       "      <th>LZ_WEST</th>\n",
       "      <td>39.502594</td>\n",
       "    </tr>\n",
       "  </tbody>\n",
       "</table>\n",
       "<p>681 rows × 1 columns</p>\n",
       "</div>"
      ],
      "text/plain": [
       "                                Price\n",
       "Year Month SettlementPoint           \n",
       "2016 1     HB_BUSAVG        19.209301\n",
       "           HB_HOUSTON       19.565726\n",
       "           HB_HUBAVG        19.258696\n",
       "           HB_NORTH         19.133306\n",
       "           HB_SOUTH         19.210054\n",
       "...                               ...\n",
       "2019 12    LZ_LCRA          19.456882\n",
       "           LZ_NORTH         19.006801\n",
       "           LZ_RAYBN         19.085067\n",
       "           LZ_SOUTH         19.786882\n",
       "           LZ_WEST          39.502594\n",
       "\n",
       "[681 rows x 1 columns]"
      ]
     },
     "execution_count": 95,
     "metadata": {},
     "output_type": "execute_result"
    }
   ],
   "source": [
    "hp.groupby(['Year','Month','SettlementPoint'])[['Price']].mean()"
   ]
  },
  {
   "cell_type": "markdown",
   "id": "92d7a5c5-9108-4309-900d-af5f119ca08b",
   "metadata": {},
   "source": [
    "## Task 3: Write the computed monthly average prices to file as a CSV named AveragePriceByMonth.csv.\n",
    "- The CSV file you write should have four columns with the following names:\n",
    "    SettlementPoint, Year, Month, AveragePrice."
   ]
  },
  {
   "cell_type": "code",
   "execution_count": 81,
   "id": "11596ee2-a9c2-4e79-b98d-20c8b475547f",
   "metadata": {},
   "outputs": [
    {
     "data": {
      "text/html": [
       "<div>\n",
       "<style scoped>\n",
       "    .dataframe tbody tr th:only-of-type {\n",
       "        vertical-align: middle;\n",
       "    }\n",
       "\n",
       "    .dataframe tbody tr th {\n",
       "        vertical-align: top;\n",
       "    }\n",
       "\n",
       "    .dataframe thead th {\n",
       "        text-align: right;\n",
       "    }\n",
       "</style>\n",
       "<table border=\"1\" class=\"dataframe\">\n",
       "  <thead>\n",
       "    <tr style=\"text-align: right;\">\n",
       "      <th></th>\n",
       "      <th></th>\n",
       "      <th></th>\n",
       "      <th>AveragePrice</th>\n",
       "    </tr>\n",
       "    <tr>\n",
       "      <th>Year</th>\n",
       "      <th>Month</th>\n",
       "      <th>SettlementPoint</th>\n",
       "      <th></th>\n",
       "    </tr>\n",
       "  </thead>\n",
       "  <tbody>\n",
       "    <tr>\n",
       "      <th rowspan=\"5\" valign=\"top\">2016</th>\n",
       "      <th rowspan=\"5\" valign=\"top\">1</th>\n",
       "      <th>HB_BUSAVG</th>\n",
       "      <td>19.209301</td>\n",
       "    </tr>\n",
       "    <tr>\n",
       "      <th>HB_HOUSTON</th>\n",
       "      <td>19.565726</td>\n",
       "    </tr>\n",
       "    <tr>\n",
       "      <th>HB_HUBAVG</th>\n",
       "      <td>19.258696</td>\n",
       "    </tr>\n",
       "    <tr>\n",
       "      <th>HB_NORTH</th>\n",
       "      <td>19.133306</td>\n",
       "    </tr>\n",
       "    <tr>\n",
       "      <th>HB_SOUTH</th>\n",
       "      <td>19.210054</td>\n",
       "    </tr>\n",
       "    <tr>\n",
       "      <th>...</th>\n",
       "      <th>...</th>\n",
       "      <th>...</th>\n",
       "      <td>...</td>\n",
       "    </tr>\n",
       "    <tr>\n",
       "      <th rowspan=\"5\" valign=\"top\">2019</th>\n",
       "      <th rowspan=\"5\" valign=\"top\">12</th>\n",
       "      <th>LZ_LCRA</th>\n",
       "      <td>19.456882</td>\n",
       "    </tr>\n",
       "    <tr>\n",
       "      <th>LZ_NORTH</th>\n",
       "      <td>19.006801</td>\n",
       "    </tr>\n",
       "    <tr>\n",
       "      <th>LZ_RAYBN</th>\n",
       "      <td>19.085067</td>\n",
       "    </tr>\n",
       "    <tr>\n",
       "      <th>LZ_SOUTH</th>\n",
       "      <td>19.786882</td>\n",
       "    </tr>\n",
       "    <tr>\n",
       "      <th>LZ_WEST</th>\n",
       "      <td>39.502594</td>\n",
       "    </tr>\n",
       "  </tbody>\n",
       "</table>\n",
       "<p>681 rows × 1 columns</p>\n",
       "</div>"
      ],
      "text/plain": [
       "                            AveragePrice\n",
       "Year Month SettlementPoint              \n",
       "2016 1     HB_BUSAVG           19.209301\n",
       "           HB_HOUSTON          19.565726\n",
       "           HB_HUBAVG           19.258696\n",
       "           HB_NORTH            19.133306\n",
       "           HB_SOUTH            19.210054\n",
       "...                                  ...\n",
       "2019 12    LZ_LCRA             19.456882\n",
       "           LZ_NORTH            19.006801\n",
       "           LZ_RAYBN            19.085067\n",
       "           LZ_SOUTH            19.786882\n",
       "           LZ_WEST             39.502594\n",
       "\n",
       "[681 rows x 1 columns]"
      ]
     },
     "execution_count": 81,
     "metadata": {},
     "output_type": "execute_result"
    }
   ],
   "source": [
    "hp.groupby(['Year','Month','SettlementPoint'])[['Price']].mean()\n",
    "\n",
    "#Saving as DateFrame\n",
    "task_3 = hp.groupby(['Year','Month','SettlementPoint'])[['Price']].mean()\n",
    "\n",
    "#Changing 'Price' column name to 'AveragePrice'\n",
    "task_3.rename(columns={'Price': 'AveragePrice'}, inplace=True)\n",
    "task_3"
   ]
  },
  {
   "cell_type": "code",
   "execution_count": 83,
   "id": "e8d2efb8-b325-47e2-b7e5-45494e34eb7e",
   "metadata": {},
   "outputs": [],
   "source": [
    "#Saving it as a CSV file\n",
    "\n",
    "task_3.to_csv('../output_hans/AveragePriceByMonth.csv')"
   ]
  },
  {
   "cell_type": "markdown",
   "id": "60c13a66-18d4-498b-93fb-217178423a83",
   "metadata": {},
   "source": [
    "## Task 4: Compute the hourly price1 volatility for each year and each settlement hub in the historical power price data (hubs are denoted by the prefix \"HB_\" in the SettlementPoint name).\n",
    "- Since the natural logarithm is only defined for positive values, be sure to first filter\n",
    "    out any prices that are zero or negative before computing log returns.\n",
    "- Do not compute volatilities for the load zones in the data (prefix \"LZ_\" in the\n",
    "    SettlementPoint name) for this question."
   ]
  },
  {
   "cell_type": "code",
   "execution_count": 212,
   "id": "25bf49ee-04ca-4f03-b6f9-7073f6d2568a",
   "metadata": {
    "tags": []
   },
   "outputs": [
    {
     "data": {
      "text/html": [
       "<div>\n",
       "<style scoped>\n",
       "    .dataframe tbody tr th:only-of-type {\n",
       "        vertical-align: middle;\n",
       "    }\n",
       "\n",
       "    .dataframe tbody tr th {\n",
       "        vertical-align: top;\n",
       "    }\n",
       "\n",
       "    .dataframe thead th {\n",
       "        text-align: right;\n",
       "    }\n",
       "</style>\n",
       "<table border=\"1\" class=\"dataframe\">\n",
       "  <thead>\n",
       "    <tr style=\"text-align: right;\">\n",
       "      <th></th>\n",
       "      <th>Date</th>\n",
       "      <th>SettlementPoint</th>\n",
       "      <th>Price</th>\n",
       "    </tr>\n",
       "  </thead>\n",
       "  <tbody>\n",
       "    <tr>\n",
       "      <th>0</th>\n",
       "      <td>2016-01-01 00:00:00</td>\n",
       "      <td>HB_BUSAVG</td>\n",
       "      <td>18.42</td>\n",
       "    </tr>\n",
       "    <tr>\n",
       "      <th>1</th>\n",
       "      <td>2016-01-01 00:00:00</td>\n",
       "      <td>HB_HOUSTON</td>\n",
       "      <td>18.42</td>\n",
       "    </tr>\n",
       "    <tr>\n",
       "      <th>2</th>\n",
       "      <td>2016-01-01 00:00:00</td>\n",
       "      <td>HB_HUBAVG</td>\n",
       "      <td>18.42</td>\n",
       "    </tr>\n",
       "    <tr>\n",
       "      <th>3</th>\n",
       "      <td>2016-01-01 00:00:00</td>\n",
       "      <td>HB_NORTH</td>\n",
       "      <td>18.43</td>\n",
       "    </tr>\n",
       "    <tr>\n",
       "      <th>4</th>\n",
       "      <td>2016-01-01 00:00:00</td>\n",
       "      <td>HB_SOUTH</td>\n",
       "      <td>18.38</td>\n",
       "    </tr>\n",
       "  </tbody>\n",
       "</table>\n",
       "</div>"
      ],
      "text/plain": [
       "                  Date SettlementPoint  Price\n",
       "0  2016-01-01 00:00:00       HB_BUSAVG  18.42\n",
       "1  2016-01-01 00:00:00      HB_HOUSTON  18.42\n",
       "2  2016-01-01 00:00:00       HB_HUBAVG  18.42\n",
       "3  2016-01-01 00:00:00        HB_NORTH  18.43\n",
       "4  2016-01-01 00:00:00        HB_SOUTH  18.38"
      ]
     },
     "execution_count": 212,
     "metadata": {},
     "output_type": "execute_result"
    }
   ],
   "source": [
    "df.head()"
   ]
  },
  {
   "cell_type": "code",
   "execution_count": 213,
   "id": "05814a88-5239-4617-9b40-e0cfcea4b2a3",
   "metadata": {
    "tags": []
   },
   "outputs": [
    {
     "data": {
      "text/plain": [
       "(497320, 3)"
      ]
     },
     "execution_count": 213,
     "metadata": {},
     "output_type": "execute_result"
    }
   ],
   "source": [
    "hp_2 = df\n",
    "hp_2.shape"
   ]
  },
  {
   "cell_type": "code",
   "execution_count": 214,
   "id": "70c177b2-e10a-4c9d-a9b9-794fb3e4c08d",
   "metadata": {},
   "outputs": [
    {
     "data": {
      "text/plain": [
       "(493236, 3)"
      ]
     },
     "execution_count": 214,
     "metadata": {},
     "output_type": "execute_result"
    }
   ],
   "source": [
    "# indexes for negative and null values in Price column\n",
    "index = hp_2[hp_2['Price'] <= 0].index\n",
    "\n",
    "# Delete these row indexes from hp_2\n",
    "hp_2.drop(index , inplace=True)\n",
    "hp_2.shape"
   ]
  },
  {
   "cell_type": "code",
   "execution_count": 215,
   "id": "b1647038-945c-464c-b942-3be09b25298e",
   "metadata": {},
   "outputs": [
    {
     "data": {
      "text/html": [
       "<div>\n",
       "<style scoped>\n",
       "    .dataframe tbody tr th:only-of-type {\n",
       "        vertical-align: middle;\n",
       "    }\n",
       "\n",
       "    .dataframe tbody tr th {\n",
       "        vertical-align: top;\n",
       "    }\n",
       "\n",
       "    .dataframe thead th {\n",
       "        text-align: right;\n",
       "    }\n",
       "</style>\n",
       "<table border=\"1\" class=\"dataframe\">\n",
       "  <thead>\n",
       "    <tr style=\"text-align: right;\">\n",
       "      <th></th>\n",
       "      <th>Date</th>\n",
       "      <th>SettlementPoint</th>\n",
       "      <th>natural_log_price</th>\n",
       "    </tr>\n",
       "  </thead>\n",
       "  <tbody>\n",
       "    <tr>\n",
       "      <th>0</th>\n",
       "      <td>2016-01-01 00:00:00</td>\n",
       "      <td>HB_BUSAVG</td>\n",
       "      <td>2.913437</td>\n",
       "    </tr>\n",
       "    <tr>\n",
       "      <th>1</th>\n",
       "      <td>2016-01-01 00:00:00</td>\n",
       "      <td>HB_HOUSTON</td>\n",
       "      <td>2.913437</td>\n",
       "    </tr>\n",
       "    <tr>\n",
       "      <th>2</th>\n",
       "      <td>2016-01-01 00:00:00</td>\n",
       "      <td>HB_HUBAVG</td>\n",
       "      <td>2.913437</td>\n",
       "    </tr>\n",
       "    <tr>\n",
       "      <th>3</th>\n",
       "      <td>2016-01-01 00:00:00</td>\n",
       "      <td>HB_NORTH</td>\n",
       "      <td>2.913980</td>\n",
       "    </tr>\n",
       "    <tr>\n",
       "      <th>4</th>\n",
       "      <td>2016-01-01 00:00:00</td>\n",
       "      <td>HB_SOUTH</td>\n",
       "      <td>2.911263</td>\n",
       "    </tr>\n",
       "  </tbody>\n",
       "</table>\n",
       "</div>"
      ],
      "text/plain": [
       "                  Date SettlementPoint  natural_log_price\n",
       "0  2016-01-01 00:00:00       HB_BUSAVG           2.913437\n",
       "1  2016-01-01 00:00:00      HB_HOUSTON           2.913437\n",
       "2  2016-01-01 00:00:00       HB_HUBAVG           2.913437\n",
       "3  2016-01-01 00:00:00        HB_NORTH           2.913980\n",
       "4  2016-01-01 00:00:00        HB_SOUTH           2.911263"
      ]
     },
     "execution_count": 215,
     "metadata": {},
     "output_type": "execute_result"
    }
   ],
   "source": [
    "# computing log returns\n",
    "\n",
    "hp_2['natural_log_price'] = np.log(hp_2['Price'])\n",
    "\n",
    "#Dropping Price column\n",
    "hp_2.drop(columns = 'Price', inplace = True)\n",
    "hp_2.head()"
   ]
  },
  {
   "cell_type": "code",
   "execution_count": 216,
   "id": "c905bee7-a0ea-47b5-b4d9-97694b716c22",
   "metadata": {},
   "outputs": [
    {
     "data": {
      "text/plain": [
       "array(['HB_BUSAVG', 'HB_HOUSTON', 'HB_HUBAVG', 'HB_NORTH', 'HB_SOUTH',\n",
       "       'HB_WEST', 'HB_PAN'], dtype=object)"
      ]
     },
     "execution_count": 216,
     "metadata": {},
     "output_type": "execute_result"
    }
   ],
   "source": [
    "hp_hb = hp_2[hp_2['SettlementPoint'].str.contains('LZ_') == False]\n",
    "\n",
    "#checking for unique values in SettlementPoint value\n",
    "hp_hb['SettlementPoint'].unique()"
   ]
  },
  {
   "cell_type": "code",
   "execution_count": 217,
   "id": "12bca37c-6fed-4147-a56b-cc35c7ae5dc2",
   "metadata": {},
   "outputs": [
    {
     "data": {
      "text/html": [
       "<div>\n",
       "<style scoped>\n",
       "    .dataframe tbody tr th:only-of-type {\n",
       "        vertical-align: middle;\n",
       "    }\n",
       "\n",
       "    .dataframe tbody tr th {\n",
       "        vertical-align: top;\n",
       "    }\n",
       "\n",
       "    .dataframe thead th {\n",
       "        text-align: right;\n",
       "    }\n",
       "</style>\n",
       "<table border=\"1\" class=\"dataframe\">\n",
       "  <thead>\n",
       "    <tr style=\"text-align: right;\">\n",
       "      <th></th>\n",
       "      <th>Date</th>\n",
       "      <th>SettlementPoint</th>\n",
       "      <th>natural_log_price</th>\n",
       "    </tr>\n",
       "  </thead>\n",
       "  <tbody>\n",
       "    <tr>\n",
       "      <th>0</th>\n",
       "      <td>2016-01-01 00:00:00</td>\n",
       "      <td>HB_BUSAVG</td>\n",
       "      <td>2.913437</td>\n",
       "    </tr>\n",
       "    <tr>\n",
       "      <th>1</th>\n",
       "      <td>2016-01-01 00:00:00</td>\n",
       "      <td>HB_HOUSTON</td>\n",
       "      <td>2.913437</td>\n",
       "    </tr>\n",
       "    <tr>\n",
       "      <th>2</th>\n",
       "      <td>2016-01-01 00:00:00</td>\n",
       "      <td>HB_HUBAVG</td>\n",
       "      <td>2.913437</td>\n",
       "    </tr>\n",
       "    <tr>\n",
       "      <th>3</th>\n",
       "      <td>2016-01-01 00:00:00</td>\n",
       "      <td>HB_NORTH</td>\n",
       "      <td>2.913980</td>\n",
       "    </tr>\n",
       "    <tr>\n",
       "      <th>4</th>\n",
       "      <td>2016-01-01 00:00:00</td>\n",
       "      <td>HB_SOUTH</td>\n",
       "      <td>2.911263</td>\n",
       "    </tr>\n",
       "  </tbody>\n",
       "</table>\n",
       "</div>"
      ],
      "text/plain": [
       "                  Date SettlementPoint  natural_log_price\n",
       "0  2016-01-01 00:00:00       HB_BUSAVG           2.913437\n",
       "1  2016-01-01 00:00:00      HB_HOUSTON           2.913437\n",
       "2  2016-01-01 00:00:00       HB_HUBAVG           2.913437\n",
       "3  2016-01-01 00:00:00        HB_NORTH           2.913980\n",
       "4  2016-01-01 00:00:00        HB_SOUTH           2.911263"
      ]
     },
     "execution_count": 217,
     "metadata": {},
     "output_type": "execute_result"
    }
   ],
   "source": [
    "hp_hb.head()"
   ]
  },
  {
   "cell_type": "code",
   "execution_count": 218,
   "id": "05b09486-5da7-40a5-9b2c-5b16c7ada3d5",
   "metadata": {},
   "outputs": [
    {
     "data": {
      "text/plain": [
       "Date                  object\n",
       "SettlementPoint       object\n",
       "natural_log_price    float64\n",
       "dtype: object"
      ]
     },
     "execution_count": 218,
     "metadata": {},
     "output_type": "execute_result"
    }
   ],
   "source": [
    "hp_hb.dtypes"
   ]
  },
  {
   "cell_type": "code",
   "execution_count": 219,
   "id": "14c318d7-4add-46c0-a82f-c44889edab12",
   "metadata": {},
   "outputs": [
    {
     "name": "stderr",
     "output_type": "stream",
     "text": [
      "<ipython-input-219-d906bb0f5a73>:1: SettingWithCopyWarning: \n",
      "A value is trying to be set on a copy of a slice from a DataFrame.\n",
      "Try using .loc[row_indexer,col_indexer] = value instead\n",
      "\n",
      "See the caveats in the documentation: https://pandas.pydata.org/pandas-docs/stable/user_guide/indexing.html#returning-a-view-versus-a-copy\n",
      "  hp_hb['Date'] = pd.to_datetime(hp_hb['Date'])\n"
     ]
    },
    {
     "data": {
      "text/html": [
       "<div>\n",
       "<style scoped>\n",
       "    .dataframe tbody tr th:only-of-type {\n",
       "        vertical-align: middle;\n",
       "    }\n",
       "\n",
       "    .dataframe tbody tr th {\n",
       "        vertical-align: top;\n",
       "    }\n",
       "\n",
       "    .dataframe thead th {\n",
       "        text-align: right;\n",
       "    }\n",
       "</style>\n",
       "<table border=\"1\" class=\"dataframe\">\n",
       "  <thead>\n",
       "    <tr style=\"text-align: right;\">\n",
       "      <th></th>\n",
       "      <th>Date</th>\n",
       "      <th>SettlementPoint</th>\n",
       "      <th>natural_log_price</th>\n",
       "    </tr>\n",
       "  </thead>\n",
       "  <tbody>\n",
       "    <tr>\n",
       "      <th>0</th>\n",
       "      <td>2016-01-01</td>\n",
       "      <td>HB_BUSAVG</td>\n",
       "      <td>2.913437</td>\n",
       "    </tr>\n",
       "    <tr>\n",
       "      <th>1</th>\n",
       "      <td>2016-01-01</td>\n",
       "      <td>HB_HOUSTON</td>\n",
       "      <td>2.913437</td>\n",
       "    </tr>\n",
       "    <tr>\n",
       "      <th>2</th>\n",
       "      <td>2016-01-01</td>\n",
       "      <td>HB_HUBAVG</td>\n",
       "      <td>2.913437</td>\n",
       "    </tr>\n",
       "    <tr>\n",
       "      <th>3</th>\n",
       "      <td>2016-01-01</td>\n",
       "      <td>HB_NORTH</td>\n",
       "      <td>2.913980</td>\n",
       "    </tr>\n",
       "    <tr>\n",
       "      <th>4</th>\n",
       "      <td>2016-01-01</td>\n",
       "      <td>HB_SOUTH</td>\n",
       "      <td>2.911263</td>\n",
       "    </tr>\n",
       "  </tbody>\n",
       "</table>\n",
       "</div>"
      ],
      "text/plain": [
       "        Date SettlementPoint  natural_log_price\n",
       "0 2016-01-01       HB_BUSAVG           2.913437\n",
       "1 2016-01-01      HB_HOUSTON           2.913437\n",
       "2 2016-01-01       HB_HUBAVG           2.913437\n",
       "3 2016-01-01        HB_NORTH           2.913980\n",
       "4 2016-01-01        HB_SOUTH           2.911263"
      ]
     },
     "execution_count": 219,
     "metadata": {},
     "output_type": "execute_result"
    }
   ],
   "source": [
    "hp_hb['Date'] = pd.to_datetime(hp_hb['Date'])\n",
    "hp_hb.head()"
   ]
  },
  {
   "cell_type": "code",
   "execution_count": 220,
   "id": "ea2b53d8-6a82-4c1d-94fd-7ed38e0ea01b",
   "metadata": {},
   "outputs": [
    {
     "name": "stderr",
     "output_type": "stream",
     "text": [
      "<ipython-input-220-d2b4baaa9cf2>:1: SettingWithCopyWarning: \n",
      "A value is trying to be set on a copy of a slice from a DataFrame.\n",
      "Try using .loc[row_indexer,col_indexer] = value instead\n",
      "\n",
      "See the caveats in the documentation: https://pandas.pydata.org/pandas-docs/stable/user_guide/indexing.html#returning-a-view-versus-a-copy\n",
      "  hp_hb['Year'] = hp_hb['Date'].dt.year\n",
      "<ipython-input-220-d2b4baaa9cf2>:2: SettingWithCopyWarning: \n",
      "A value is trying to be set on a copy of a slice from a DataFrame.\n",
      "Try using .loc[row_indexer,col_indexer] = value instead\n",
      "\n",
      "See the caveats in the documentation: https://pandas.pydata.org/pandas-docs/stable/user_guide/indexing.html#returning-a-view-versus-a-copy\n",
      "  hp_hb['Hour'] = hp_hb['Date'].dt.hour\n"
     ]
    },
    {
     "data": {
      "text/html": [
       "<div>\n",
       "<style scoped>\n",
       "    .dataframe tbody tr th:only-of-type {\n",
       "        vertical-align: middle;\n",
       "    }\n",
       "\n",
       "    .dataframe tbody tr th {\n",
       "        vertical-align: top;\n",
       "    }\n",
       "\n",
       "    .dataframe thead th {\n",
       "        text-align: right;\n",
       "    }\n",
       "</style>\n",
       "<table border=\"1\" class=\"dataframe\">\n",
       "  <thead>\n",
       "    <tr style=\"text-align: right;\">\n",
       "      <th></th>\n",
       "      <th>Date</th>\n",
       "      <th>SettlementPoint</th>\n",
       "      <th>natural_log_price</th>\n",
       "      <th>Year</th>\n",
       "      <th>Hour</th>\n",
       "    </tr>\n",
       "  </thead>\n",
       "  <tbody>\n",
       "    <tr>\n",
       "      <th>0</th>\n",
       "      <td>2016-01-01</td>\n",
       "      <td>HB_BUSAVG</td>\n",
       "      <td>2.913437</td>\n",
       "      <td>2016</td>\n",
       "      <td>0</td>\n",
       "    </tr>\n",
       "    <tr>\n",
       "      <th>1</th>\n",
       "      <td>2016-01-01</td>\n",
       "      <td>HB_HOUSTON</td>\n",
       "      <td>2.913437</td>\n",
       "      <td>2016</td>\n",
       "      <td>0</td>\n",
       "    </tr>\n",
       "    <tr>\n",
       "      <th>2</th>\n",
       "      <td>2016-01-01</td>\n",
       "      <td>HB_HUBAVG</td>\n",
       "      <td>2.913437</td>\n",
       "      <td>2016</td>\n",
       "      <td>0</td>\n",
       "    </tr>\n",
       "    <tr>\n",
       "      <th>3</th>\n",
       "      <td>2016-01-01</td>\n",
       "      <td>HB_NORTH</td>\n",
       "      <td>2.913980</td>\n",
       "      <td>2016</td>\n",
       "      <td>0</td>\n",
       "    </tr>\n",
       "    <tr>\n",
       "      <th>4</th>\n",
       "      <td>2016-01-01</td>\n",
       "      <td>HB_SOUTH</td>\n",
       "      <td>2.911263</td>\n",
       "      <td>2016</td>\n",
       "      <td>0</td>\n",
       "    </tr>\n",
       "  </tbody>\n",
       "</table>\n",
       "</div>"
      ],
      "text/plain": [
       "        Date SettlementPoint  natural_log_price  Year  Hour\n",
       "0 2016-01-01       HB_BUSAVG           2.913437  2016     0\n",
       "1 2016-01-01      HB_HOUSTON           2.913437  2016     0\n",
       "2 2016-01-01       HB_HUBAVG           2.913437  2016     0\n",
       "3 2016-01-01        HB_NORTH           2.913980  2016     0\n",
       "4 2016-01-01        HB_SOUTH           2.911263  2016     0"
      ]
     },
     "execution_count": 220,
     "metadata": {},
     "output_type": "execute_result"
    }
   ],
   "source": [
    "hp_hb['Year'] = hp_hb['Date'].dt.year\n",
    "hp_hb['Hour'] = hp_hb['Date'].dt.hour\n",
    "hp_hb.head()"
   ]
  },
  {
   "cell_type": "code",
   "execution_count": 221,
   "id": "0b843e1e-a09d-4b1c-a3ca-d5756a91e6b1",
   "metadata": {},
   "outputs": [
    {
     "data": {
      "text/html": [
       "<div>\n",
       "<style scoped>\n",
       "    .dataframe tbody tr th:only-of-type {\n",
       "        vertical-align: middle;\n",
       "    }\n",
       "\n",
       "    .dataframe tbody tr th {\n",
       "        vertical-align: top;\n",
       "    }\n",
       "\n",
       "    .dataframe thead th {\n",
       "        text-align: right;\n",
       "    }\n",
       "</style>\n",
       "<table border=\"1\" class=\"dataframe\">\n",
       "  <thead>\n",
       "    <tr style=\"text-align: right;\">\n",
       "      <th></th>\n",
       "      <th></th>\n",
       "      <th></th>\n",
       "      <th>HourlyVolatility</th>\n",
       "    </tr>\n",
       "    <tr>\n",
       "      <th>Year</th>\n",
       "      <th>Hour</th>\n",
       "      <th>SettlementPoint</th>\n",
       "      <th></th>\n",
       "    </tr>\n",
       "  </thead>\n",
       "  <tbody>\n",
       "    <tr>\n",
       "      <th rowspan=\"5\" valign=\"top\">2016</th>\n",
       "      <th rowspan=\"5\" valign=\"top\">0</th>\n",
       "      <th>HB_BUSAVG</th>\n",
       "      <td>0.403882</td>\n",
       "    </tr>\n",
       "    <tr>\n",
       "      <th>HB_HOUSTON</th>\n",
       "      <td>0.397947</td>\n",
       "    </tr>\n",
       "    <tr>\n",
       "      <th>HB_HUBAVG</th>\n",
       "      <td>0.420049</td>\n",
       "    </tr>\n",
       "    <tr>\n",
       "      <th>HB_NORTH</th>\n",
       "      <td>0.389115</td>\n",
       "    </tr>\n",
       "    <tr>\n",
       "      <th>HB_SOUTH</th>\n",
       "      <td>0.406438</td>\n",
       "    </tr>\n",
       "    <tr>\n",
       "      <th>...</th>\n",
       "      <th>...</th>\n",
       "      <th>...</th>\n",
       "      <td>...</td>\n",
       "    </tr>\n",
       "    <tr>\n",
       "      <th rowspan=\"5\" valign=\"top\">2019</th>\n",
       "      <th rowspan=\"5\" valign=\"top\">23</th>\n",
       "      <th>HB_HUBAVG</th>\n",
       "      <td>0.235340</td>\n",
       "    </tr>\n",
       "    <tr>\n",
       "      <th>HB_NORTH</th>\n",
       "      <td>0.208033</td>\n",
       "    </tr>\n",
       "    <tr>\n",
       "      <th>HB_PAN</th>\n",
       "      <td>0.817654</td>\n",
       "    </tr>\n",
       "    <tr>\n",
       "      <th>HB_SOUTH</th>\n",
       "      <td>0.197773</td>\n",
       "    </tr>\n",
       "    <tr>\n",
       "      <th>HB_WEST</th>\n",
       "      <td>0.710928</td>\n",
       "    </tr>\n",
       "  </tbody>\n",
       "</table>\n",
       "<p>600 rows × 1 columns</p>\n",
       "</div>"
      ],
      "text/plain": [
       "                           HourlyVolatility\n",
       "Year Hour SettlementPoint                  \n",
       "2016 0    HB_BUSAVG                0.403882\n",
       "          HB_HOUSTON               0.397947\n",
       "          HB_HUBAVG                0.420049\n",
       "          HB_NORTH                 0.389115\n",
       "          HB_SOUTH                 0.406438\n",
       "...                                     ...\n",
       "2019 23   HB_HUBAVG                0.235340\n",
       "          HB_NORTH                 0.208033\n",
       "          HB_PAN                   0.817654\n",
       "          HB_SOUTH                 0.197773\n",
       "          HB_WEST                  0.710928\n",
       "\n",
       "[600 rows x 1 columns]"
      ]
     },
     "execution_count": 221,
     "metadata": {},
     "output_type": "execute_result"
    }
   ],
   "source": [
    "hp_hb.groupby(['Year','Hour','SettlementPoint'])[['natural_log_price']].std()\n",
    "\n",
    "#Saving as DateFrame\n",
    "task_4 = hp_hb.groupby(['Year','Hour','SettlementPoint'])[['natural_log_price']].std()\n",
    "\n",
    "#Changing 'natural_log_price' column name to 'HourlyVolatility'\n",
    "task_4.rename(columns={'natural_log_price': 'HourlyVolatility'}, inplace=True)\n",
    "task_4"
   ]
  },
  {
   "cell_type": "markdown",
   "id": "62a21430-15a8-409e-83ce-c9944effd45a",
   "metadata": {},
   "source": [
    "## Task 5: Write the computed hourly volatilities for each settlement hub and each historical year to file as a CSV named HourlyVolatilityByYear.csv.\n",
    "- The CSV file you write should have three columns with the following names:\n",
    "    SettlementPoint, Year, HourlyVolatility.\n",
    "- Column names are case sensitive."
   ]
  },
  {
   "cell_type": "code",
   "execution_count": 222,
   "id": "cbe1098f-5402-4de5-b84b-43fc8cd592a7",
   "metadata": {},
   "outputs": [
    {
     "data": {
      "text/html": [
       "<div>\n",
       "<style scoped>\n",
       "    .dataframe tbody tr th:only-of-type {\n",
       "        vertical-align: middle;\n",
       "    }\n",
       "\n",
       "    .dataframe tbody tr th {\n",
       "        vertical-align: top;\n",
       "    }\n",
       "\n",
       "    .dataframe thead th {\n",
       "        text-align: right;\n",
       "    }\n",
       "</style>\n",
       "<table border=\"1\" class=\"dataframe\">\n",
       "  <thead>\n",
       "    <tr style=\"text-align: right;\">\n",
       "      <th></th>\n",
       "      <th></th>\n",
       "      <th></th>\n",
       "      <th>HourlyVolatility</th>\n",
       "    </tr>\n",
       "    <tr>\n",
       "      <th>Year</th>\n",
       "      <th>Hour</th>\n",
       "      <th>SettlementPoint</th>\n",
       "      <th></th>\n",
       "    </tr>\n",
       "  </thead>\n",
       "  <tbody>\n",
       "    <tr>\n",
       "      <th rowspan=\"5\" valign=\"top\">2016</th>\n",
       "      <th rowspan=\"5\" valign=\"top\">0</th>\n",
       "      <th>HB_BUSAVG</th>\n",
       "      <td>0.403882</td>\n",
       "    </tr>\n",
       "    <tr>\n",
       "      <th>HB_HOUSTON</th>\n",
       "      <td>0.397947</td>\n",
       "    </tr>\n",
       "    <tr>\n",
       "      <th>HB_HUBAVG</th>\n",
       "      <td>0.420049</td>\n",
       "    </tr>\n",
       "    <tr>\n",
       "      <th>HB_NORTH</th>\n",
       "      <td>0.389115</td>\n",
       "    </tr>\n",
       "    <tr>\n",
       "      <th>HB_SOUTH</th>\n",
       "      <td>0.406438</td>\n",
       "    </tr>\n",
       "  </tbody>\n",
       "</table>\n",
       "</div>"
      ],
      "text/plain": [
       "                           HourlyVolatility\n",
       "Year Hour SettlementPoint                  \n",
       "2016 0    HB_BUSAVG                0.403882\n",
       "          HB_HOUSTON               0.397947\n",
       "          HB_HUBAVG                0.420049\n",
       "          HB_NORTH                 0.389115\n",
       "          HB_SOUTH                 0.406438"
      ]
     },
     "execution_count": 222,
     "metadata": {},
     "output_type": "execute_result"
    }
   ],
   "source": [
    "task_4.head()"
   ]
  },
  {
   "cell_type": "code",
   "execution_count": 223,
   "id": "e0f7255b-47c5-47bf-80ac-a76762849840",
   "metadata": {},
   "outputs": [
    {
     "name": "stdout",
     "output_type": "stream",
     "text": [
      "<class 'pandas.core.frame.DataFrame'>\n",
      "MultiIndex: 600 entries, (2016, 0, 'HB_BUSAVG') to (2019, 23, 'HB_WEST')\n",
      "Data columns (total 1 columns):\n",
      " #   Column            Non-Null Count  Dtype  \n",
      "---  ------            --------------  -----  \n",
      " 0   HourlyVolatility  600 non-null    float64\n",
      "dtypes: float64(1)\n",
      "memory usage: 6.9+ KB\n"
     ]
    }
   ],
   "source": [
    "task_4.info()"
   ]
  },
  {
   "cell_type": "code",
   "execution_count": 224,
   "id": "fe69bfee-273c-4dee-bf01-c373eb6127c3",
   "metadata": {},
   "outputs": [],
   "source": [
    "task_4 = task_4.reset_index()\n",
    "task_4.drop(columns = 'Hour', inplace = True)"
   ]
  },
  {
   "cell_type": "code",
   "execution_count": 225,
   "id": "717eba8b-9ca0-4809-88cb-ceb7893f556a",
   "metadata": {},
   "outputs": [],
   "source": [
    "#Saving it as a CSV file\n",
    "\n",
    "task_4.to_csv('../output_hans/HourlyVolatilityByYear.csv', index = False)"
   ]
  },
  {
   "cell_type": "markdown",
   "id": "0b53246b-a689-47b6-aa9e-92c7026f0703",
   "metadata": {},
   "source": [
    "# Task 6: Determine which settlement hub showed the highest overall hourly volatility for each historical year. Write code to extract the rows of your computed hourly volatility table corresponding to these maxima and write this table to a second output file named MaxVolatilityByYear.csv.\n",
    "- Your file should contain the same column names as the file you wrote in Task 5."
   ]
  },
  {
   "cell_type": "code",
   "execution_count": 197,
   "id": "c25b4088-176f-44b5-b01f-0ca6985fc317",
   "metadata": {},
   "outputs": [
    {
     "data": {
      "text/html": [
       "<div>\n",
       "<style scoped>\n",
       "    .dataframe tbody tr th:only-of-type {\n",
       "        vertical-align: middle;\n",
       "    }\n",
       "\n",
       "    .dataframe tbody tr th {\n",
       "        vertical-align: top;\n",
       "    }\n",
       "\n",
       "    .dataframe thead th {\n",
       "        text-align: right;\n",
       "    }\n",
       "</style>\n",
       "<table border=\"1\" class=\"dataframe\">\n",
       "  <thead>\n",
       "    <tr style=\"text-align: right;\">\n",
       "      <th></th>\n",
       "      <th>Year</th>\n",
       "      <th>SettlementPoint</th>\n",
       "      <th>HourlyVolatility</th>\n",
       "    </tr>\n",
       "  </thead>\n",
       "  <tbody>\n",
       "    <tr>\n",
       "      <th>0</th>\n",
       "      <td>2016</td>\n",
       "      <td>HB_BUSAVG</td>\n",
       "      <td>0.403882</td>\n",
       "    </tr>\n",
       "    <tr>\n",
       "      <th>1</th>\n",
       "      <td>2016</td>\n",
       "      <td>HB_HOUSTON</td>\n",
       "      <td>0.397947</td>\n",
       "    </tr>\n",
       "    <tr>\n",
       "      <th>2</th>\n",
       "      <td>2016</td>\n",
       "      <td>HB_HUBAVG</td>\n",
       "      <td>0.420049</td>\n",
       "    </tr>\n",
       "    <tr>\n",
       "      <th>3</th>\n",
       "      <td>2016</td>\n",
       "      <td>HB_NORTH</td>\n",
       "      <td>0.389115</td>\n",
       "    </tr>\n",
       "    <tr>\n",
       "      <th>4</th>\n",
       "      <td>2016</td>\n",
       "      <td>HB_SOUTH</td>\n",
       "      <td>0.406438</td>\n",
       "    </tr>\n",
       "  </tbody>\n",
       "</table>\n",
       "</div>"
      ],
      "text/plain": [
       "   Year SettlementPoint  HourlyVolatility\n",
       "0  2016       HB_BUSAVG          0.403882\n",
       "1  2016      HB_HOUSTON          0.397947\n",
       "2  2016       HB_HUBAVG          0.420049\n",
       "3  2016        HB_NORTH          0.389115\n",
       "4  2016        HB_SOUTH          0.406438"
      ]
     },
     "execution_count": 197,
     "metadata": {},
     "output_type": "execute_result"
    }
   ],
   "source": [
    "task_6 = pd.read_csv('../output_hans/HourlyVolatilityByYear.csv', index_col=0)\n",
    "task_6.head()"
   ]
  },
  {
   "cell_type": "code",
   "execution_count": 207,
   "id": "a222fc18-e7fd-49d1-aef8-7fda6e9cf3cf",
   "metadata": {},
   "outputs": [
    {
     "name": "stderr",
     "output_type": "stream",
     "text": [
      "<ipython-input-207-caa222390fbb>:1: FutureWarning: Indexing with multiple keys (implicitly converted to a tuple of keys) will be deprecated, use a list instead.\n",
      "  task_6.groupby(['Year'])['SettlementPoint', 'HourlyVolatility'].max()\n"
     ]
    },
    {
     "data": {
      "text/html": [
       "<div>\n",
       "<style scoped>\n",
       "    .dataframe tbody tr th:only-of-type {\n",
       "        vertical-align: middle;\n",
       "    }\n",
       "\n",
       "    .dataframe tbody tr th {\n",
       "        vertical-align: top;\n",
       "    }\n",
       "\n",
       "    .dataframe thead th {\n",
       "        text-align: right;\n",
       "    }\n",
       "</style>\n",
       "<table border=\"1\" class=\"dataframe\">\n",
       "  <thead>\n",
       "    <tr style=\"text-align: right;\">\n",
       "      <th></th>\n",
       "      <th>SettlementPoint</th>\n",
       "      <th>HourlyVolatility</th>\n",
       "    </tr>\n",
       "    <tr>\n",
       "      <th>Year</th>\n",
       "      <th></th>\n",
       "      <th></th>\n",
       "    </tr>\n",
       "  </thead>\n",
       "  <tbody>\n",
       "    <tr>\n",
       "      <th>2016</th>\n",
       "      <td>HB_WEST</td>\n",
       "      <td>0.638195</td>\n",
       "    </tr>\n",
       "    <tr>\n",
       "      <th>2017</th>\n",
       "      <td>HB_WEST</td>\n",
       "      <td>0.804503</td>\n",
       "    </tr>\n",
       "    <tr>\n",
       "      <th>2018</th>\n",
       "      <td>HB_WEST</td>\n",
       "      <td>0.878491</td>\n",
       "    </tr>\n",
       "    <tr>\n",
       "      <th>2019</th>\n",
       "      <td>HB_WEST</td>\n",
       "      <td>1.604769</td>\n",
       "    </tr>\n",
       "  </tbody>\n",
       "</table>\n",
       "</div>"
      ],
      "text/plain": [
       "     SettlementPoint  HourlyVolatility\n",
       "Year                                  \n",
       "2016         HB_WEST          0.638195\n",
       "2017         HB_WEST          0.804503\n",
       "2018         HB_WEST          0.878491\n",
       "2019         HB_WEST          1.604769"
      ]
     },
     "execution_count": 207,
     "metadata": {},
     "output_type": "execute_result"
    }
   ],
   "source": [
    "task_6.groupby(['Year'])['SettlementPoint', 'HourlyVolatility'].max()"
   ]
  },
  {
   "cell_type": "code",
   "execution_count": 210,
   "id": "36e568d3-39c2-43a4-9b7d-776a426d7fb2",
   "metadata": {},
   "outputs": [
    {
     "name": "stderr",
     "output_type": "stream",
     "text": [
      "<ipython-input-210-3d161feead0b>:2: FutureWarning: Indexing with multiple keys (implicitly converted to a tuple of keys) will be deprecated, use a list instead.\n",
      "  task_6 = task_6.groupby(['Year'])['SettlementPoint', 'HourlyVolatility'].max()\n"
     ]
    }
   ],
   "source": [
    "#Saving it as a CSV file\n",
    "task_6 = task_6.groupby(['Year'])['SettlementPoint', 'HourlyVolatility'].max()\n",
    "task_6.to_csv('../output_hans/MaxVolatilityByYear.csv')"
   ]
  },
  {
   "cell_type": "markdown",
   "id": "b2c297e6-c613-4a17-b5ef-5de1580d0fc3",
   "metadata": {},
   "source": [
    "## Task 7: Use the files in the supplementalMaterials folder as examples of the required data format, write code to translate the power price data structure you created in Task 1 into a format that could be readily consumed by the cQuant price simulation models, and write the data to separate files for each settlement point.\n",
    "- The historical data provided to you uses the hour-beginning convention.\n",
    "- Each SettlementPoint should have its historical data saved to a separate file. That is, each CSV file you write should have data for one and only one SettlementPoint. There should be 15 files in total; one for each of the settlement points represented in the historical power price data.\n",
    "- To keep things tidy, save these files in a subdirectory named formattedSpotHistory within your main output directory for the exercise.\n",
    "- Use the convention \"spot_<SettlementPointName>.csv\" for the filenames\n",
    "    of the data you write to file."
   ]
  },
  {
   "cell_type": "code",
   "execution_count": 233,
   "id": "92d2bb9f-54a2-446c-9809-48733993613f",
   "metadata": {},
   "outputs": [
    {
     "data": {
      "text/html": [
       "<div>\n",
       "<style scoped>\n",
       "    .dataframe tbody tr th:only-of-type {\n",
       "        vertical-align: middle;\n",
       "    }\n",
       "\n",
       "    .dataframe tbody tr th {\n",
       "        vertical-align: top;\n",
       "    }\n",
       "\n",
       "    .dataframe thead th {\n",
       "        text-align: right;\n",
       "    }\n",
       "</style>\n",
       "<table border=\"1\" class=\"dataframe\">\n",
       "  <thead>\n",
       "    <tr style=\"text-align: right;\">\n",
       "      <th></th>\n",
       "      <th>Date</th>\n",
       "      <th>SettlementPoint</th>\n",
       "      <th>Price</th>\n",
       "    </tr>\n",
       "  </thead>\n",
       "  <tbody>\n",
       "    <tr>\n",
       "      <th>0</th>\n",
       "      <td>2016-01-01 00:00:00</td>\n",
       "      <td>HB_BUSAVG</td>\n",
       "      <td>18.42</td>\n",
       "    </tr>\n",
       "    <tr>\n",
       "      <th>1</th>\n",
       "      <td>2016-01-01 00:00:00</td>\n",
       "      <td>HB_HOUSTON</td>\n",
       "      <td>18.42</td>\n",
       "    </tr>\n",
       "    <tr>\n",
       "      <th>2</th>\n",
       "      <td>2016-01-01 00:00:00</td>\n",
       "      <td>HB_HUBAVG</td>\n",
       "      <td>18.42</td>\n",
       "    </tr>\n",
       "    <tr>\n",
       "      <th>3</th>\n",
       "      <td>2016-01-01 00:00:00</td>\n",
       "      <td>HB_NORTH</td>\n",
       "      <td>18.43</td>\n",
       "    </tr>\n",
       "    <tr>\n",
       "      <th>4</th>\n",
       "      <td>2016-01-01 00:00:00</td>\n",
       "      <td>HB_SOUTH</td>\n",
       "      <td>18.38</td>\n",
       "    </tr>\n",
       "  </tbody>\n",
       "</table>\n",
       "</div>"
      ],
      "text/plain": [
       "                  Date SettlementPoint  Price\n",
       "0  2016-01-01 00:00:00       HB_BUSAVG  18.42\n",
       "1  2016-01-01 00:00:00      HB_HOUSTON  18.42\n",
       "2  2016-01-01 00:00:00       HB_HUBAVG  18.42\n",
       "3  2016-01-01 00:00:00        HB_NORTH  18.43\n",
       "4  2016-01-01 00:00:00        HB_SOUTH  18.38"
      ]
     },
     "execution_count": 233,
     "metadata": {},
     "output_type": "execute_result"
    }
   ],
   "source": [
    "hp.head()"
   ]
  },
  {
   "cell_type": "code",
   "execution_count": 234,
   "id": "e50f8808-22a1-43ad-a350-eade2e1b27a9",
   "metadata": {},
   "outputs": [
    {
     "data": {
      "text/plain": [
       "(497320, 3)"
      ]
     },
     "execution_count": 234,
     "metadata": {},
     "output_type": "execute_result"
    }
   ],
   "source": [
    "# Change Date column to be datetime dtype\n",
    "hp['Date'] = pd.to_datetime(hp['Date'])\n",
    "hp.shape"
   ]
  },
  {
   "cell_type": "code",
   "execution_count": 246,
   "id": "df608cea-37ad-4e84-894c-0d59b68daaba",
   "metadata": {},
   "outputs": [
    {
     "data": {
      "text/plain": [
       "['HB_BUSAVG',\n",
       " 'HB_HOUSTON',\n",
       " 'HB_HUBAVG',\n",
       " 'HB_NORTH',\n",
       " 'HB_SOUTH',\n",
       " 'HB_WEST',\n",
       " 'LZ_AEN',\n",
       " 'LZ_CPS',\n",
       " 'LZ_HOUSTON',\n",
       " 'LZ_LCRA',\n",
       " 'LZ_NORTH',\n",
       " 'LZ_RAYBN',\n",
       " 'LZ_SOUTH',\n",
       " 'LZ_WEST',\n",
       " 'HB_PAN']"
      ]
     },
     "execution_count": 246,
     "metadata": {},
     "output_type": "execute_result"
    }
   ],
   "source": [
    "# Get unique values to later loop through them\n",
    "uniq = list(hp['SettlementPoint'].unique())\n",
    "uniq"
   ]
  },
  {
   "cell_type": "code",
   "execution_count": 248,
   "id": "4537d6b9-273f-46ed-a110-7a4a3b9c7289",
   "metadata": {},
   "outputs": [],
   "source": [
    "for i in uniq:\n",
    "    m = hp[hp['SettlementPoint'].str.contains(i)]\n",
    "    #Save csv file\n",
    "    m.to_csv(f'../output_hans/formattedSpotHistory/spot_<{i}>.csv')"
   ]
  },
  {
   "cell_type": "markdown",
   "id": "c28cafb0-0f54-46d6-b535-42204d9e47f6",
   "metadata": {},
   "source": []
  },
  {
   "cell_type": "code",
   "execution_count": null,
   "id": "dab06f76-1d32-4435-b4f0-7cb08db753ef",
   "metadata": {},
   "outputs": [],
   "source": []
  }
 ],
 "metadata": {
  "kernelspec": {
   "display_name": "Python 3",
   "language": "python",
   "name": "python3"
  },
  "language_info": {
   "codemirror_mode": {
    "name": "ipython",
    "version": 3
   },
   "file_extension": ".py",
   "mimetype": "text/x-python",
   "name": "python",
   "nbconvert_exporter": "python",
   "pygments_lexer": "ipython3",
   "version": "3.8.8"
  }
 },
 "nbformat": 4,
 "nbformat_minor": 5
}
